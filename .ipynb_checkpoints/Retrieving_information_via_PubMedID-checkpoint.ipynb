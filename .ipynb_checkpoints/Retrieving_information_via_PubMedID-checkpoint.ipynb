{
 "cells": [
  {
   "cell_type": "markdown",
   "metadata": {},
   "source": [
    "### Erstellen Sie ein Jupyter Notebook oder ein Python-Script. Darin sollen äquivalent zu dem gemeinsam durchgeführten DOI/CrossRef-Beispiel Metadaten für gegebene PubMed-IDs mittels Python bezogen und dargestellt werden.\n",
    "\n",
    "#### Für die PMDI 27708327 kann man über die folgende URL Daten im JSON-Format beziehen:\n",
    "https://eutils.ncbi.nlm.nih.gov/entrez/eutils/esummary.fcgi?db=pubmed&retmode=json&id=27708327\n",
    "\n",
    "#### Führen Sie den die Extraktion der Daten für folgende PMIDs durch:\n",
    "\n",
    "31452104\n",
    "\n",
    "31437182\n",
    "\n",
    "31455877\n",
    "\n",
    "31535994\n",
    "\n",
    "Extrahieren Sie für **Titel** und **Publikationsjahr** mit Python und lassen diese **als Text** ausgeben.\n",
    "Fügen Sie das Script oder das Jupyter Notebook dem Git-Repositorium hinzu. Informieren Sie Ihre(n) Projektpartner:in, dass Sie die Teilaufgaben aufgeschlossen haben.\n",
    "\n",
    "In Python kann man String auf verschiedene Weise formatieren. Lesen Sie diesen Artikel (Link) und probieren Sie\n",
    "die Ergebnisausgabe durch f-Strings zu formatieren.\n",
    "\n",
    "Im Zuge der Entwicklung tritt mit hoher Wahrscheinlichkeit mindestens ein Fehler auf. Tragen Sie diesen, mit einer\n",
    "Begründung dessen und der Behebung dessen an der markierten Stelle in die README.md-Datei ein."
   ]
  },
  {
   "cell_type": "code",
   "execution_count": 1,
   "metadata": {},
   "outputs": [],
   "source": [
    "import urllib.request\n",
    "import pandas as pd\n",
    "import json"
   ]
  },
  {
   "cell_type": "code",
   "execution_count": 2,
   "metadata": {},
   "outputs": [],
   "source": [
    "base_url = \"https://eutils.ncbi.nlm.nih.gov/entrez/eutils/esummary.fcgi?db=pubmed&retmode=json&id=\"\n",
    "pmid = \"27708327\"\n",
    "full_url = base_url + pmid"
   ]
  },
  {
   "cell_type": "code",
   "execution_count": 3,
   "metadata": {},
   "outputs": [
    {
     "name": "stdout",
     "output_type": "stream",
     "text": [
      "https://eutils.ncbi.nlm.nih.gov/entrez/eutils/esummary.fcgi?db=pubmed&retmode=json&id=27708327\n"
     ]
    }
   ],
   "source": [
    "print(full_url)"
   ]
  },
  {
   "cell_type": "code",
   "execution_count": 4,
   "metadata": {},
   "outputs": [],
   "source": [
    "pmid_json_data = urllib.request.urlopen(full_url).read()"
   ]
  },
  {
   "cell_type": "code",
   "execution_count": 5,
   "metadata": {},
   "outputs": [
    {
     "name": "stdout",
     "output_type": "stream",
     "text": [
      "b'{\\n    \"header\": {\\n        \"type\": \"esummary\",\\n        \"version\": \"0.3\"\\n    },\\n    \"result\": {\\n        \"uids\": [\\n            \"27708327\"\\n        ],\\n        \"27708327\": {\\n            \"uid\": \"27708327\",\\n            \"pubdate\": \"2016 Oct 6\",\\n            \"epubdate\": \"\",\\n            \"source\": \"Nature\",\\n            \"authors\": [\\n                {\\n                    \"name\": \"Perkel J\",\\n                    \"authtype\": \"Author\",\\n                    \"clusterid\": \"\"\\n                }\\n            ],\\n            \"lastauthor\": \"Perkel J\",\\n            \"title\": \"Democratic databases: science on GitHub.\",\\n            \"sorttitle\": \"democratic databases science on github\",\\n            \"volume\": \"538\",\\n            \"issue\": \"7623\",\\n            \"pages\": \"127-128\",\\n            \"lang\": [\\n                \"eng\"\\n            ],\\n            \"nlmuniqueid\": \"0410462\",\\n            \"issn\": \"0028-0836\",\\n            \"essn\": \"1476-4687\",\\n            \"pubtype\": [\\n                \"Journal Article\"\\n            ],\\n            \"recordstatus\": \"PubMed - indexed for MEDLINE\",\\n            \"pubstatus\": \"4\",\\n            \"articleids\": [\\n                {\\n                    \"idtype\": \"pubmed\",\\n                    \"idtypen\": 1,\\n                    \"value\": \"27708327\"\\n                },\\n                {\\n                    \"idtype\": \"pii\",\\n                    \"idtypen\": 4,\\n                    \"value\": \"538127a\"\\n                },\\n                {\\n                    \"idtype\": \"doi\",\\n                    \"idtypen\": 3,\\n                    \"value\": \"10.1038/538127a\"\\n                },\\n                {\\n                    \"idtype\": \"rid\",\\n                    \"idtypen\": 8,\\n                    \"value\": \"27708327\"\\n                },\\n                {\\n                    \"idtype\": \"eid\",\\n                    \"idtypen\": 8,\\n                    \"value\": \"27708327\"\\n                }\\n            ],\\n            \"history\": [\\n                {\\n                    \"pubstatus\": \"entrez\",\\n                    \"date\": \"2016/10/07 06:00\"\\n                },\\n                {\\n                    \"pubstatus\": \"pubmed\",\\n                    \"date\": \"2016/10/07 06:00\"\\n                },\\n                {\\n                    \"pubstatus\": \"medline\",\\n                    \"date\": \"2016/11/03 06:00\"\\n                }\\n            ],\\n            \"references\": [\\n                {\\n                    \"refsource\": \"Nature. 2016 Oct 31;539(7627):126\",\\n                    \"reftype\": \"Erratum in\",\\n                    \"pmid\": 27808210,\\n                    \"note\": \"\"\\n                }\\n            ],\\n            \"attributes\": [\\n            ],\\n            \"pmcrefcount\": 5,\\n            \"fulljournalname\": \"Nature\",\\n            \"elocationid\": \"doi: 10.1038/538127a\",\\n            \"doctype\": \"citation\",\\n            \"srccontriblist\": [\\n            ],\\n            \"booktitle\": \"\",\\n            \"medium\": \"\",\\n            \"edition\": \"\",\\n            \"publisherlocation\": \"\",\\n            \"publishername\": \"\",\\n            \"srcdate\": \"\",\\n            \"reportnumber\": \"\",\\n            \"availablefromurl\": \"\",\\n            \"locationlabel\": \"\",\\n            \"doccontriblist\": [\\n            ],\\n            \"docdate\": \"\",\\n            \"bookname\": \"\",\\n            \"chapter\": \"\",\\n            \"sortpubdate\": \"2016/10/06 00:00\",\\n            \"sortfirstauthor\": \"Perkel J\",\\n            \"vernaculartitle\": \"\"\\n        }\\n    }\\n}\\n\\n'\n"
     ]
    }
   ],
   "source": [
    "print(pmid_json_data)"
   ]
  },
  {
   "cell_type": "code",
   "execution_count": 6,
   "metadata": {},
   "outputs": [],
   "source": [
    "pmid_data = json.loads(pmid_json_data)"
   ]
  },
  {
   "cell_type": "code",
   "execution_count": 7,
   "metadata": {},
   "outputs": [
    {
     "data": {
      "text/plain": [
       "dict"
      ]
     },
     "execution_count": 7,
     "metadata": {},
     "output_type": "execute_result"
    }
   ],
   "source": [
    "type(pmid_data)"
   ]
  },
  {
   "cell_type": "code",
   "execution_count": 8,
   "metadata": {},
   "outputs": [
    {
     "data": {
      "text/plain": [
       "dict_keys(['header', 'result'])"
      ]
     },
     "execution_count": 8,
     "metadata": {},
     "output_type": "execute_result"
    }
   ],
   "source": [
    "pmid_data.keys()"
   ]
  },
  {
   "cell_type": "code",
   "execution_count": 9,
   "metadata": {},
   "outputs": [
    {
     "name": "stdout",
     "output_type": "stream",
     "text": [
      "{\n",
      "  \"header\": {\n",
      "    \"type\": \"esummary\",\n",
      "    \"version\": \"0.3\"\n",
      "  },\n",
      "  \"result\": {\n",
      "    \"uids\": [\n",
      "      \"27708327\"\n",
      "    ],\n",
      "    \"27708327\": {\n",
      "      \"uid\": \"27708327\",\n",
      "      \"pubdate\": \"2016 Oct 6\",\n",
      "      \"epubdate\": \"\",\n",
      "      \"source\": \"Nature\",\n",
      "      \"authors\": [\n",
      "        {\n",
      "          \"name\": \"Perkel J\",\n",
      "          \"authtype\": \"Author\",\n",
      "          \"clusterid\": \"\"\n",
      "        }\n",
      "      ],\n",
      "      \"lastauthor\": \"Perkel J\",\n",
      "      \"title\": \"Democratic databases: science on GitHub.\",\n",
      "      \"sorttitle\": \"democratic databases science on github\",\n",
      "      \"volume\": \"538\",\n",
      "      \"issue\": \"7623\",\n",
      "      \"pages\": \"127-128\",\n",
      "      \"lang\": [\n",
      "        \"eng\"\n",
      "      ],\n",
      "      \"nlmuniqueid\": \"0410462\",\n",
      "      \"issn\": \"0028-0836\",\n",
      "      \"essn\": \"1476-4687\",\n",
      "      \"pubtype\": [\n",
      "        \"Journal Article\"\n",
      "      ],\n",
      "      \"recordstatus\": \"PubMed - indexed for MEDLINE\",\n",
      "      \"pubstatus\": \"4\",\n",
      "      \"articleids\": [\n",
      "        {\n",
      "          \"idtype\": \"pubmed\",\n",
      "          \"idtypen\": 1,\n",
      "          \"value\": \"27708327\"\n",
      "        },\n",
      "        {\n",
      "          \"idtype\": \"pii\",\n",
      "          \"idtypen\": 4,\n",
      "          \"value\": \"538127a\"\n",
      "        },\n",
      "        {\n",
      "          \"idtype\": \"doi\",\n",
      "          \"idtypen\": 3,\n",
      "          \"value\": \"10.1038/538127a\"\n",
      "        },\n",
      "        {\n",
      "          \"idtype\": \"rid\",\n",
      "          \"idtypen\": 8,\n",
      "          \"value\": \"27708327\"\n",
      "        },\n",
      "        {\n",
      "          \"idtype\": \"eid\",\n",
      "          \"idtypen\": 8,\n",
      "          \"value\": \"27708327\"\n",
      "        }\n",
      "      ],\n",
      "      \"history\": [\n",
      "        {\n",
      "          \"pubstatus\": \"entrez\",\n",
      "          \"date\": \"2016/10/07 06:00\"\n",
      "        },\n",
      "        {\n",
      "          \"pubstatus\": \"pubmed\",\n",
      "          \"date\": \"2016/10/07 06:00\"\n",
      "        },\n",
      "        {\n",
      "          \"pubstatus\": \"medline\",\n",
      "          \"date\": \"2016/11/03 06:00\"\n",
      "        }\n",
      "      ],\n",
      "      \"references\": [\n",
      "        {\n",
      "          \"refsource\": \"Nature. 2016 Oct 31;539(7627):126\",\n",
      "          \"reftype\": \"Erratum in\",\n",
      "          \"pmid\": 27808210,\n",
      "          \"note\": \"\"\n",
      "        }\n",
      "      ],\n",
      "      \"attributes\": [],\n",
      "      \"pmcrefcount\": 5,\n",
      "      \"fulljournalname\": \"Nature\",\n",
      "      \"elocationid\": \"doi: 10.1038/538127a\",\n",
      "      \"doctype\": \"citation\",\n",
      "      \"srccontriblist\": [],\n",
      "      \"booktitle\": \"\",\n",
      "      \"medium\": \"\",\n",
      "      \"edition\": \"\",\n",
      "      \"publisherlocation\": \"\",\n",
      "      \"publishername\": \"\",\n",
      "      \"srcdate\": \"\",\n",
      "      \"reportnumber\": \"\",\n",
      "      \"availablefromurl\": \"\",\n",
      "      \"locationlabel\": \"\",\n",
      "      \"doccontriblist\": [],\n",
      "      \"docdate\": \"\",\n",
      "      \"bookname\": \"\",\n",
      "      \"chapter\": \"\",\n",
      "      \"sortpubdate\": \"2016/10/06 00:00\",\n",
      "      \"sortfirstauthor\": \"Perkel J\",\n",
      "      \"vernaculartitle\": \"\"\n",
      "    }\n",
      "  }\n",
      "}\n"
     ]
    }
   ],
   "source": [
    "print(json.dumps(pmid_data, indent=2))"
   ]
  },
  {
   "cell_type": "code",
   "execution_count": 10,
   "metadata": {},
   "outputs": [
    {
     "data": {
      "text/plain": [
       "{'uids': ['27708327'],\n",
       " '27708327': {'uid': '27708327',\n",
       "  'pubdate': '2016 Oct 6',\n",
       "  'epubdate': '',\n",
       "  'source': 'Nature',\n",
       "  'authors': [{'name': 'Perkel J', 'authtype': 'Author', 'clusterid': ''}],\n",
       "  'lastauthor': 'Perkel J',\n",
       "  'title': 'Democratic databases: science on GitHub.',\n",
       "  'sorttitle': 'democratic databases science on github',\n",
       "  'volume': '538',\n",
       "  'issue': '7623',\n",
       "  'pages': '127-128',\n",
       "  'lang': ['eng'],\n",
       "  'nlmuniqueid': '0410462',\n",
       "  'issn': '0028-0836',\n",
       "  'essn': '1476-4687',\n",
       "  'pubtype': ['Journal Article'],\n",
       "  'recordstatus': 'PubMed - indexed for MEDLINE',\n",
       "  'pubstatus': '4',\n",
       "  'articleids': [{'idtype': 'pubmed', 'idtypen': 1, 'value': '27708327'},\n",
       "   {'idtype': 'pii', 'idtypen': 4, 'value': '538127a'},\n",
       "   {'idtype': 'doi', 'idtypen': 3, 'value': '10.1038/538127a'},\n",
       "   {'idtype': 'rid', 'idtypen': 8, 'value': '27708327'},\n",
       "   {'idtype': 'eid', 'idtypen': 8, 'value': '27708327'}],\n",
       "  'history': [{'pubstatus': 'entrez', 'date': '2016/10/07 06:00'},\n",
       "   {'pubstatus': 'pubmed', 'date': '2016/10/07 06:00'},\n",
       "   {'pubstatus': 'medline', 'date': '2016/11/03 06:00'}],\n",
       "  'references': [{'refsource': 'Nature. 2016 Oct 31;539(7627):126',\n",
       "    'reftype': 'Erratum in',\n",
       "    'pmid': 27808210,\n",
       "    'note': ''}],\n",
       "  'attributes': [],\n",
       "  'pmcrefcount': 5,\n",
       "  'fulljournalname': 'Nature',\n",
       "  'elocationid': 'doi: 10.1038/538127a',\n",
       "  'doctype': 'citation',\n",
       "  'srccontriblist': [],\n",
       "  'booktitle': '',\n",
       "  'medium': '',\n",
       "  'edition': '',\n",
       "  'publisherlocation': '',\n",
       "  'publishername': '',\n",
       "  'srcdate': '',\n",
       "  'reportnumber': '',\n",
       "  'availablefromurl': '',\n",
       "  'locationlabel': '',\n",
       "  'doccontriblist': [],\n",
       "  'docdate': '',\n",
       "  'bookname': '',\n",
       "  'chapter': '',\n",
       "  'sortpubdate': '2016/10/06 00:00',\n",
       "  'sortfirstauthor': 'Perkel J',\n",
       "  'vernaculartitle': ''}}"
      ]
     },
     "execution_count": 10,
     "metadata": {},
     "output_type": "execute_result"
    }
   ],
   "source": [
    "pmid_data[\"result\"]"
   ]
  },
  {
   "cell_type": "code",
   "execution_count": 11,
   "metadata": {},
   "outputs": [
    {
     "name": "stdout",
     "output_type": "stream",
     "text": [
      "Democratic databases: science on GitHub.\n",
      "2016 Oct 6\n"
     ]
    }
   ],
   "source": [
    "print(pmid_data[\"result\"][\"27708327\"][\"title\"])\n",
    "print(pmid_data[\"result\"][\"27708327\"][\"pubdate\"])"
   ]
  },
  {
   "cell_type": "code",
   "execution_count": 12,
   "metadata": {},
   "outputs": [],
   "source": [
    "# Liste mit PMIDs\n",
    "pmids = [\"31452104\",\n",
    "         \"31437182\",\n",
    "         \"31455877\",\n",
    "         \"31535994\"] "
   ]
  },
  {
   "cell_type": "code",
   "execution_count": 13,
   "metadata": {},
   "outputs": [
    {
     "name": "stdout",
     "output_type": "stream",
     "text": [
      "Molegro Virtual Docker for Docking.\n",
      "2019\n",
      "----------\n",
      "TreeCluster: Clustering biological sequences using phylogenetic trees.\n",
      "2019\n",
      "----------\n",
      "Principles of open source bioinstrumentation applied to the poseidon syringe pump system.\n",
      "2019 Aug 27\n",
      "----------\n",
      "Aggregation Signature for Small Object Tracking.\n",
      "2019 Sep 16\n",
      "----------\n"
     ]
    }
   ],
   "source": [
    "for pmid in pmids:\n",
    "    pmid_json_data = urllib.request.urlopen(base_url + pmid).read()\n",
    "    pmid_data = json.loads(pmid_json_data)\n",
    "    print(pmid_data[\"result\"][str(pmid)][\"title\"])\n",
    "    print(pmid_data[\"result\"][str(pmid)][\"pubdate\"])\n",
    "    print(\"----------\")\n"
   ]
  },
  {
   "cell_type": "code",
   "execution_count": 15,
   "metadata": {},
   "outputs": [
    {
     "name": "stdout",
     "output_type": "stream",
     "text": [
      "Molegro Virtual Docker for Docking.(2019)\n",
      "------------------------------\n",
      "TreeCluster: Clustering biological sequences using phylogenetic trees.(2019)\n",
      "------------------------------\n",
      "Principles of open source bioinstrumentation applied to the poseidon syringe pump system.(2019 Aug 27)\n",
      "------------------------------\n",
      "Aggregation Signature for Small Object Tracking.(2019 Sep 16)\n",
      "------------------------------\n"
     ]
    }
   ],
   "source": [
    "#F-String\n",
    "for pmid in pmids:\n",
    "    pmid_json_data = urllib.request.urlopen(base_url + pmid).read()\n",
    "    pmid_data = json.loads(pmid_json_data)\n",
    "    title = pmid_data[\"result\"][str(pmid)][\"title\"]\n",
    "    pubdate = pmid_data[\"result\"][str(pmid)][\"pubdate\"]\n",
    "    print(f\"{title}({pubdate})\")\n",
    "    print(\"------------------------------\")\n",
    "    "
   ]
  },
  {
   "cell_type": "code",
   "execution_count": null,
   "metadata": {},
   "outputs": [],
   "source": []
  }
 ],
 "metadata": {
  "kernelspec": {
   "display_name": "Python 3",
   "language": "python",
   "name": "python3"
  },
  "language_info": {
   "codemirror_mode": {
    "name": "ipython",
    "version": 3
   },
   "file_extension": ".py",
   "mimetype": "text/x-python",
   "name": "python",
   "nbconvert_exporter": "python",
   "pygments_lexer": "ipython3",
   "version": "3.7.3"
  }
 },
 "nbformat": 4,
 "nbformat_minor": 2
}
